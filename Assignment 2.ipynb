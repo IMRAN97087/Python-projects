{
 "cells": [
  {
   "cell_type": "markdown",
   "metadata": {},
   "source": [
    "# Assignment 2"
   ]
  },
  {
   "cell_type": "markdown",
   "metadata": {},
   "source": [
    "## Task 1"
   ]
  },
  {
   "cell_type": "markdown",
   "metadata": {},
   "source": [
    "### Q.1.1 Write a Python Program to implement your own myreduce() function which works exactly like Python's built-in function reduce().  "
   ]
  },
  {
   "cell_type": "code",
   "execution_count": 12,
   "metadata": {},
   "outputs": [
    {
     "name": "stdout",
     "output_type": "stream",
     "text": [
      "15\n"
     ]
    }
   ],
   "source": [
    "def sum_num(x1,x2):\n",
    "    return x1+x2\n",
    "\n",
    "def my_reduce(func,seq):\n",
    "    first=seq[0]\n",
    "    for i in seq[1:]:\n",
    "        first=func(first,i)\n",
    "    return first\n",
    "\n",
    "print(my_reduce(sum_num,[1,2,3,4,5]))\n"
   ]
  },
  {
   "cell_type": "markdown",
   "metadata": {},
   "source": [
    "### Q.1.2 Write a Python program to implement your own myfilter() function which works exactly like Python's built-in function filter().   "
   ]
  },
  {
   "cell_type": "code",
   "execution_count": 13,
   "metadata": {},
   "outputs": [
    {
     "name": "stdout",
     "output_type": "stream",
     "text": [
      "Filter only positive integers on list [0,1,-1,-3,2,4,5] using custom filter function[1, 2, 4, 5]\n"
     ]
    }
   ],
   "source": [
    "def myfilter(func,seq):\n",
    "    result = []\n",
    "    \n",
    "    for item in seq:\n",
    "        if func(item):\n",
    "            result.append(item)\n",
    "            \n",
    "    return result\n",
    "        \n",
    "\n",
    "def ispositive(x):\n",
    "    if (x <=0):\n",
    "        return False\n",
    "    else:\n",
    "        return True\n",
    "    \n",
    "print(\"Filter only positive integers on list [0,1,-1,-3,2,4,5] using custom filter function\" + str(myfilter(ispositive,[0,1,-1,-3,2,4,5])))\n",
    "    "
   ]
  },
  {
   "cell_type": "markdown",
   "metadata": {},
   "source": [
    "### Q.2 Implement List comprehensions to produce the following lists.  \n",
    "### Write List comprehensions to produce the following Lists  \n",
    "### ['A', 'C', 'A', 'D', 'G', 'I', ’L’, ‘ D’]  \n",
    "### ['x', 'xx', 'xxx', 'xxxx', 'y', 'yy', 'yyy', 'yyyy', 'z', 'zz', 'zzz', 'zzzz']  \n",
    "### ['x', 'y', 'z', 'xx', 'yy', 'zz', 'xx', 'yy', 'zz', 'xxxx', 'yyyy', 'zzzz'] \n",
    "### [[2], [3], [4], [3], [4], [5], [4], [5], [6]]  \n",
    "### [[2, 3, 4, 5], [3, 4, 5, 6], [4, 5, 6, 7], [5, 6, 7, 8]]  \n",
    "### [(1, 1), (2, 1), (3, 1), (1, 2), (2, 2), (3, 2), (1, 3), (2, 3), (3, 3)].   "
   ]
  },
  {
   "cell_type": "code",
   "execution_count": 21,
   "metadata": {},
   "outputs": [
    {
     "data": {
      "text/plain": [
       "['A', 'C', 'A', 'D', 'G', 'I', 'L', 'D']"
      ]
     },
     "execution_count": 21,
     "metadata": {},
     "output_type": "execute_result"
    }
   ],
   "source": [
    "[i for i in 'ACADGILD']"
   ]
  },
  {
   "cell_type": "code",
   "execution_count": 25,
   "metadata": {},
   "outputs": [
    {
     "name": "stdout",
     "output_type": "stream",
     "text": [
      "['x','y','z']=>['X', 'XX', 'XXX', 'XXXX', 'Y', 'YY', 'YYY', 'YYYY', 'Z', 'ZZ', 'ZZZ', 'ZZZZ']\n"
     ]
    }
   ],
   "source": [
    "input_list=['X','Y','Z']\n",
    "result=[item*num for item in input_list for num in range(1,5)]\n",
    "print(\"['x','y','z']=>\" + str(result))"
   ]
  },
  {
   "cell_type": "code",
   "execution_count": 1,
   "metadata": {},
   "outputs": [
    {
     "name": "stdout",
     "output_type": "stream",
     "text": [
      "['x', 'y', 'z', 'xx', 'yy', 'zz', 'xxx', 'yyy', 'zzz', 'xxxx', 'yyyy', 'zzzz']\n"
     ]
    }
   ],
   "source": [
    "input_list=['x','y','z']\n",
    "result=[item*num for num in range(1,5) for item in input_list]\n",
    "print(result)"
   ]
  },
  {
   "cell_type": "code",
   "execution_count": 2,
   "metadata": {},
   "outputs": [
    {
     "name": "stdout",
     "output_type": "stream",
     "text": [
      "[2,3,4]=>[[2], [3], [4], [3], [4], [5], [4], [5], [6]]\n"
     ]
    }
   ],
   "source": [
    "input_list=[2,3,4]\n",
    "result = [[item+num] for item in input_list for num in range(0,3)]\n",
    "print(\"[2,3,4]=>\" + str(result))"
   ]
  },
  {
   "cell_type": "code",
   "execution_count": 3,
   "metadata": {},
   "outputs": [
    {
     "name": "stdout",
     "output_type": "stream",
     "text": [
      "[2,3,4,5]=>[[2, 3, 4, 5], [3, 4, 5, 6], [4, 5, 6, 7], [5, 6, 7, 8]]\n"
     ]
    }
   ],
   "source": [
    "input_list=[2,3,4,5]\n",
    "result = [[item+num for item in input_list] for num in range(0,4)]\n",
    "print(\"[2,3,4,5]=>\" + str(result))"
   ]
  },
  {
   "cell_type": "code",
   "execution_count": 4,
   "metadata": {},
   "outputs": [
    {
     "name": "stdout",
     "output_type": "stream",
     "text": [
      "[1,2,3]=>[(1, 1), (2, 1), (3, 1), (1, 2), (2, 2), (3, 2), (1, 3), (2, 3), (3, 3)]\n"
     ]
    }
   ],
   "source": [
    "input_list=[1,2,3]\n",
    "result = [(b,a) for a in input_list for b in input_list]\n",
    "\n",
    "print(\"[1,2,3]=>\" + str(result))"
   ]
  },
  {
   "cell_type": "markdown",
   "metadata": {},
   "source": [
    "### Q.3 Implement a function longestWord() that takes a list of words and returns the longest one.   "
   ]
  },
  {
   "cell_type": "code",
   "execution_count": 14,
   "metadata": {},
   "outputs": [
    {
     "name": "stdout",
     "output_type": "stream",
     "text": [
      "imran\n"
     ]
    }
   ],
   "source": [
    "lst=[\"im\",\"imr\",\"imra\",\"imran\"]\n",
    "x=0\n",
    "for i in lst:\n",
    "    if len(i)>x:\n",
    "        x=len(i)\n",
    "\n",
    "print(i)"
   ]
  },
  {
   "cell_type": "markdown",
   "metadata": {},
   "source": [
    "## Task 2"
   ]
  },
  {
   "cell_type": "markdown",
   "metadata": {},
   "source": [
    "### Q.1.1:- Write a Python Program(with class concepts) to find the area of the triangle using the below formula.  \n",
    "### area = (s*(s-a)*(s-b)*(s-c)) ** 0.5  \n",
    "### Function to take the length of the sides of triangle from user should be defined in the parent class and function to calculate the area should be defined in subclass. "
   ]
  },
  {
   "cell_type": "code",
   "execution_count": 1,
   "metadata": {},
   "outputs": [
    {
     "data": {
      "text/plain": [
       "21.21762239271875"
      ]
     },
     "execution_count": 1,
     "metadata": {},
     "output_type": "execute_result"
    }
   ],
   "source": [
    "class Triangle:\n",
    "    def __init__(self,a,b,c):\n",
    "        self.a = a \n",
    "        self.b = b\n",
    "        self.c = c\n",
    "        \n",
    "class Area (Triangle):\n",
    "    def get_area(self):\n",
    "        s = (self.a + self.b + self.c)/2\n",
    "        return (s*(s-self.a)*(s-self.b)*(s-self.c))**0.5\n",
    "area = Area(7,7,7)\n",
    "area.get_area()"
   ]
  },
  {
   "cell_type": "markdown",
   "metadata": {},
   "source": [
    "### Q.1.2 :- Write a function filter_long_words() that takes a list of words and an integer n and returns the list of words that are longer than n.   "
   ]
  },
  {
   "cell_type": "code",
   "execution_count": 7,
   "metadata": {},
   "outputs": [
    {
     "name": "stdout",
     "output_type": "stream",
     "text": [
      "['imr', 'imra', 'imran']\n"
     ]
    }
   ],
   "source": [
    "def filter_long_words(lst,n):\n",
    "    lst1=[]\n",
    "    for i in lst:\n",
    "        if(len(i)>n):\n",
    "            lst1.append(i)\n",
    "    print(lst1)\n",
    "filter_long_words(['im','imr','imra','imran'],2)"
   ]
  },
  {
   "cell_type": "markdown",
   "metadata": {},
   "source": [
    "### Q.2.1:-Write a Python program using function concept that maps  list of words into a list of integers representing the lengths of the corresponding words​.  \n",
    "### Hint: ​If a list [ ab,cde,erty] is passed on to the python function output should come as [2,3,4]  Here 2,3 and 4 are the lengths of the words in the list.     "
   ]
  },
  {
   "cell_type": "code",
   "execution_count": 15,
   "metadata": {},
   "outputs": [
    {
     "name": "stdout",
     "output_type": "stream",
     "text": [
      "[2, 3, 4]\n",
      "[[1, 1], [1, 1, 1], [1, 1, 1, 1]]\n"
     ]
    }
   ],
   "source": [
    "def map_list_length(lst):\n",
    "    res=[]\n",
    "    for i in lst:\n",
    "        res.append(len(i))\n",
    "    return res\n",
    "ms=[\"ab\",\"cde\",\"etry\"]\n",
    "map_list_length(ms)\n",
    "mst=map(map_list_length,ms)\n",
    "print(map_list_length(ms))\n",
    "print(list(mst))"
   ]
  },
  {
   "cell_type": "markdown",
   "metadata": {},
   "source": [
    "### Q.2.2:-Write a Python function which takes a character (i.e. a string of length 1) and returns True if it is a vowel, False otherwise.   "
   ]
  },
  {
   "cell_type": "code",
   "execution_count": 16,
   "metadata": {},
   "outputs": [
    {
     "name": "stdout",
     "output_type": "stream",
     "text": [
      "False\n",
      "True\n"
     ]
    }
   ],
   "source": [
    "def is_vowel(char):\n",
    "    all_vowels = 'aeiou'\n",
    "    return char in all_vowels\n",
    "print(is_vowel('c'))\n",
    "print(is_vowel('e'))"
   ]
  }
 ],
 "metadata": {
  "kernelspec": {
   "display_name": "Python 3",
   "language": "python",
   "name": "python3"
  },
  "language_info": {
   "codemirror_mode": {
    "name": "ipython",
    "version": 3
   },
   "file_extension": ".py",
   "mimetype": "text/x-python",
   "name": "python",
   "nbconvert_exporter": "python",
   "pygments_lexer": "ipython3",
   "version": "3.7.4"
  }
 },
 "nbformat": 4,
 "nbformat_minor": 2
}
